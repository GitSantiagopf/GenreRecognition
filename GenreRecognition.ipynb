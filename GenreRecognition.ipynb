{
  "cells": [
    {
      "cell_type": "markdown",
      "metadata": {
        "id": "view-in-github",
        "colab_type": "text"
      },
      "source": [
        "<a href=\"https://colab.research.google.com/github/GitSantiagopf/GenreRecognition/blob/main/GenreRecognition.ipynb\" target=\"_parent\"><img src=\"https://colab.research.google.com/assets/colab-badge.svg\" alt=\"Open In Colab\"/></a>"
      ]
    },
    {
      "cell_type": "code",
      "execution_count": null,
      "metadata": {
        "id": "pHhmAkCrprqK"
      },
      "outputs": [],
      "source": [
        "from google.colab import files\n",
        "uploaded = files.upload()"
      ]
    },
    {
      "cell_type": "code",
      "execution_count": 1,
      "metadata": {
        "id": "EXPepE1hsjX4",
        "colab": {
          "base_uri": "https://localhost:8080/"
        },
        "outputId": "e8be4568-909d-4727-9b2a-84efb3aa43be"
      },
      "outputs": [
        {
          "output_type": "stream",
          "name": "stdout",
          "text": [
            "/usr/local/lib/python3.9/dist-packages/gdown/cli.py:121: FutureWarning: Option `--id` was deprecated in version 4.3.1 and will be removed in 5.0. You don't need to pass it anymore to use a file ID.\n",
            "  warnings.warn(\n",
            "Downloading...\n",
            "From: https://drive.google.com/uc?id=1f-qUobh_tWoEIhB35uSi3cECSF45yFcl\n",
            "To: /content/canciones.rar\n",
            "100% 560M/560M [00:07<00:00, 75.0MB/s]\n",
            "--2023-04-20 00:48:29--  https://drive.google.com/file/d/1f-qUobh_tWoEIhB35uSi3cECSF45yFcl\n",
            "Resolving drive.google.com (drive.google.com)... 108.177.126.139, 108.177.126.138, 108.177.126.102, ...\n",
            "Connecting to drive.google.com (drive.google.com)|108.177.126.139|:443... connected.\n",
            "HTTP request sent, awaiting response... 302 Moved Temporarily\n",
            "Location: https://drive.google.com/file/d/1f-qUobh_tWoEIhB35uSi3cECSF45yFcl/ [following]\n",
            "--2023-04-20 00:48:29--  https://drive.google.com/file/d/1f-qUobh_tWoEIhB35uSi3cECSF45yFcl/\n",
            "Reusing existing connection to drive.google.com:443.\n",
            "HTTP request sent, awaiting response... 302 Moved Temporarily\n",
            "Location: https://drive.google.com/file/d/1f-qUobh_tWoEIhB35uSi3cECSF45yFcl/edit [following]\n",
            "--2023-04-20 00:48:29--  https://drive.google.com/file/d/1f-qUobh_tWoEIhB35uSi3cECSF45yFcl/edit\n",
            "Reusing existing connection to drive.google.com:443.\n",
            "HTTP request sent, awaiting response... 200 OK\n",
            "Length: unspecified [text/html]\n",
            "Saving to: ‘1f-qUobh_tWoEIhB35uSi3cECSF45yFcl’\n",
            "\n",
            "1f-qUobh_tWoEIhB35u     [ <=>                ]  74.41K  --.-KB/s    in 0.01s   \n",
            "\n",
            "2023-04-20 00:48:30 (6.56 MB/s) - ‘1f-qUobh_tWoEIhB35uSi3cECSF45yFcl’ saved [76196]\n",
            "\n"
          ]
        }
      ],
      "source": [
        "#Descargar la base de datos\n",
        "!gdown --id \"1f-qUobh_tWoEIhB35uSi3cECSF45yFcl\"\n",
        "!wget https://drive.google.com/file/d/1f-qUobh_tWoEIhB35uSi3cECSF45yFcl"
      ]
    },
    {
      "cell_type": "code",
      "source": [
        "#Canción de prueba\n",
        "!gdown --id \"1I_THlsDbidYfHm3H2UmunHDBENT615me\"\n",
        "!wget https://drive.google.com/file/d/1I_THlsDbidYfHm3H2UmunHDBENT615me"
      ],
      "metadata": {
        "colab": {
          "base_uri": "https://localhost:8080/"
        },
        "id": "U9IgPHbrLZI1",
        "outputId": "592ae588-02ca-4df3-c154-6752d6ae69a7"
      },
      "execution_count": 5,
      "outputs": [
        {
          "output_type": "stream",
          "name": "stdout",
          "text": [
            "/usr/local/lib/python3.9/dist-packages/gdown/cli.py:121: FutureWarning: Option `--id` was deprecated in version 4.3.1 and will be removed in 5.0. You don't need to pass it anymore to use a file ID.\n",
            "  warnings.warn(\n",
            "Downloading...\n",
            "From: https://drive.google.com/uc?id=1I_THlsDbidYfHm3H2UmunHDBENT615me\n",
            "To: /content/Rels.mp3\n",
            "100% 2.43M/2.43M [00:00<00:00, 138MB/s]\n",
            "--2023-04-20 01:01:58--  https://drive.google.com/file/d/1I_THlsDbidYfHm3H2UmunHDBENT615me\n",
            "Resolving drive.google.com (drive.google.com)... 108.177.126.102, 108.177.126.139, 108.177.126.138, ...\n",
            "Connecting to drive.google.com (drive.google.com)|108.177.126.102|:443... connected.\n",
            "HTTP request sent, awaiting response... 302 Moved Temporarily\n",
            "Location: https://drive.google.com/file/d/1I_THlsDbidYfHm3H2UmunHDBENT615me/ [following]\n",
            "--2023-04-20 01:01:58--  https://drive.google.com/file/d/1I_THlsDbidYfHm3H2UmunHDBENT615me/\n",
            "Reusing existing connection to drive.google.com:443.\n",
            "HTTP request sent, awaiting response... 302 Moved Temporarily\n",
            "Location: https://drive.google.com/file/d/1I_THlsDbidYfHm3H2UmunHDBENT615me/edit [following]\n",
            "--2023-04-20 01:01:58--  https://drive.google.com/file/d/1I_THlsDbidYfHm3H2UmunHDBENT615me/edit\n",
            "Reusing existing connection to drive.google.com:443.\n",
            "HTTP request sent, awaiting response... 200 OK\n",
            "Length: unspecified [text/html]\n",
            "Saving to: ‘1I_THlsDbidYfHm3H2UmunHDBENT615me’\n",
            "\n",
            "1I_THlsDbidYfHm3H2U     [ <=>                ]  74.01K  --.-KB/s    in 0.01s   \n",
            "\n",
            "2023-04-20 01:01:59 (6.57 MB/s) - ‘1I_THlsDbidYfHm3H2UmunHDBENT615me’ saved [75785]\n",
            "\n"
          ]
        }
      ]
    },
    {
      "cell_type": "code",
      "execution_count": 2,
      "metadata": {
        "colab": {
          "base_uri": "https://localhost:8080/"
        },
        "id": "M6383LR7j6Bd",
        "outputId": "47d08871-9a79-4337-f4bc-b15d6dc56e8b"
      },
      "outputs": [
        {
          "output_type": "stream",
          "name": "stdout",
          "text": [
            "\n",
            "UNRAR 5.61 beta 1 freeware      Copyright (c) 1993-2018 Alexander Roshal\n",
            "\n",
            "\n",
            "Extracting from canciones.rar\n",
            "\n",
            "Creating    canciones                                                 OK\n",
            "Creating    canciones/Clasica                                         OK\n",
            "Extracting  canciones/Clasica/André Rieu - Ballade pour Adeline.mp3      \b\b\b\b  0%\b\b\b\b\b  OK \n",
            "Extracting  canciones/Clasica/Antonio Vivaldi La Stravaganza.mp3         \b\b\b\b  1%\b\b\b\b  2%\b\b\b\b  3%\b\b\b\b\b  OK \n",
            "Extracting  canciones/Clasica/Beethoven – Pathetique Sonata 2nd Movement.mp3     \b\b\b\b  4%\b\b\b\b\b  OK \n",
            "Extracting  canciones/Clasica/Beethoven – Sonata No.17 Tempest 3rd Movement.mp3     \b\b\b\b  5%\b\b\b\b  6%\b\b\b\b\b  OK \n",
            "Extracting  canciones/Clasica/Brahms - Hungarian Dances No. 5 _ 6 conducted by Maciej Tomasiewicz.mp3     \b\b\b\b  7%\b\b\b\b  8%\b\b\b\b\b  OK \n",
            "Extracting  canciones/Clasica/Chopin  Nocturne op9 No2.mp3               \b\b\b\b  9%\b\b\b\b\b  OK \n",
            "Extracting  canciones/Clasica/Chopin  Spring Waltz Mariage dAmour Please Read Description.mp3     \b\b\b\b  9%\b\b\b\b 10%\b\b\b\b\b  OK \n",
            "Extracting  canciones/Clasica/Chopin - Fantaisie-Impromptu (Op. 66).mp3     \b\b\b\b 10%\b\b\b\b 11%\b\b\b\b\b  OK \n",
            "Extracting  canciones/Clasica/CLAUDE DEBUSSY-  CLAIR DE LUNE.mp3         \b\b\b\b 12%\b\b\b\b\b  OK \n",
            "Extracting  canciones/Clasica/David Garrett - Csárdás by Vittorio Monti - Milano 30.05.2015.mp3     \b\b\b\b 13%\b\b\b\b 14%\b\b\b\b\b  OK \n",
            "Extracting  canciones/Clasica/Debussy - Arabesque No.1 and No.2.mp3      \b\b\b\b 14%\b\b\b\b 15%\b\b\b\b 16%\b\b\b\b\b  OK \n",
            "Extracting  canciones/Clasica/Dmitri Shostakovich - The Second Waltz.mp3     \b\b\b\b 16%\b\b\b\b 17%\b\b\b\b\b  OK \n",
            "Extracting  canciones/Clasica/fur elise (Ludwig van Beethoven).mp3       \b\b\b\b 18%\b\b\b\b\b  OK \n",
            "Extracting  canciones/Clasica/Howl_s Moving Castle - Merry go round of Life cover by Grissini Project.mp3     \b\b\b\b 19%\b\b\b\b 20%\b\b\b\b\b  OK \n",
            "Extracting  canciones/Clasica/Mariage d_Amour - Paul de Senneville -- Jacob_s Piano.mp3     \b\b\b\b 21%\b\b\b\b\b  OK \n",
            "Extracting  canciones/Clasica/Moonlight Sonata.mp3                       \b\b\b\b 22%\b\b\b\b 23%\b\b\b\b 24%\b\b\b\b\b  OK \n",
            "Extracting  canciones/Clasica/Mozart - Requiem.mp3                       \b\b\b\b 24%\b\b\b\b 25%\b\b\b\b 26%\b\b\b\b\b  OK \n",
            "Extracting  canciones/Clasica/Mozart_s Eine Kleine Nachtmusik (1st Movement).mp3     \b\b\b\b 27%\b\b\b\b 28%\b\b\b\b\b  OK \n",
            "Extracting  canciones/Clasica/Mozart_s Rondo alla Turca.mp3              \b\b\b\b 28%\b\b\b\b 29%\b\b\b\b\b  OK \n",
            "Extracting  canciones/Clasica/Niccolo Paganini -  La campanella.mp3      \b\b\b\b 30%\b\b\b\b\b  OK \n",
            "Extracting  canciones/Clasica/onlymp3.to - The Godfather – Orchestral Suite  The Danish National Symphony Orchestra (Live)-X-jdl9hcCeg-256k-1654432007059.mp3     \b\b\b\b 31%\b\b\b\b 32%\b\b\b\b 33%\b\b\b\b 34%\b\b\b\b\b  OK \n",
            "Extracting  canciones/Clasica/Paganini_s Caprice No. 24-L1xWbrwSb7E-256k-1654487392360.mp3     \b\b\b\b 35%\b\b\b\b 36%\b\b\b\b 37%\b\b\b\b\b  OK \n",
            "Extracting  canciones/Clasica/Satie - Gymnopédie No. 1.mp3               \b\b\b\b 37%\b\b\b\b 38%\b\b\b\b\b  OK \n",
            "Extracting  canciones/Clasica/Schubert  Serenade.mp3                     \b\b\b\b 38%\b\b\b\b 39%\b\b\b\b\b  OK \n",
            "Extracting  canciones/Clasica/Strauss  The Blue Danube Waltz.mp3         \b\b\b\b 39%\b\b\b\b 40%\b\b\b\b\b  OK \n",
            "Extracting  canciones/Clasica/Tchaikovsky – Swan Lake.mp3                \b\b\b\b 41%\b\b\b\b\b  OK \n",
            "Extracting  canciones/Clasica/Vivaldi - Concerto No. 4 in F minor, Op. 8, RV 297, _Winter_.mp3     \b\b\b\b 42%\b\b\b\b 43%\b\b\b\b 44%\b\b\b\b\b  OK \n",
            "Extracting  canciones/Clasica/Vivaldi Four Seasons Winter LInverno original version Freivogel  Voices of Music  RV 297 4K.mp3     \b\b\b\b 45%\b\b\b\b\b  OK \n",
            "Extracting  canciones/Clasica/Vivaldi _ Spring - II.mp3                  \b\b\b\b 46%\b\b\b\b\b  OK \n",
            "Extracting  canciones/Clasica/Waltz No.2.mp3                             \b\b\b\b 47%\b\b\b\b\b  OK \n",
            "Creating    canciones/Metal                                           OK\n",
            "Extracting  canciones/Metal/Self Bias Resistor.mp3                       \b\b\b\b 48%\b\b\b\b\b  OK \n",
            "Extracting  canciones/Metal/Shock.mp3                                    \b\b\b\b 49%\b\b\b\b 50%\b\b\b\b\b  OK \n",
            "Extracting  canciones/Metal/y2mate.com - Deep Six.mp3                    \b\b\b\b 50%\b\b\b\b 51%\b\b\b\b\b  OK \n",
            "Extracting  canciones/Metal/y2mate.com - Dicke Titten.mp3                \b\b\b\b 51%\b\b\b\b\b  OK \n",
            "Extracting  canciones/Metal/y2mate.com - Discipline.mp3                  \b\b\b\b 52%\b\b\b\b\b  OK \n",
            "Extracting  canciones/Metal/y2mate.com - Du hast.mp3                     \b\b\b\b 53%\b\b\b\b\b  OK \n",
            "Extracting  canciones/Metal/y2mate.com - Du riechst so gut.mp3           \b\b\b\b 53%\b\b\b\b\b  OK \n",
            "Extracting  canciones/Metal/y2mate.com - Edgecrusher.mp3                 \b\b\b\b 54%\b\b\b\b\b  OK \n",
            "Extracting  canciones/Metal/y2mate.com - Engel.mp3                       \b\b\b\b 55%\b\b\b\b\b  OK \n",
            "Extracting  canciones/Metal/y2mate.com - Fear Factory  Linchpin OFFICIAL VIDEO.mp3     \b\b\b\b 55%\b\b\b\b\b  OK \n",
            "Extracting  canciones/Metal/y2mate.com - Fear Factory  Replica.mp3       \b\b\b\b 56%\b\b\b\b\b  OK \n",
            "Extracting  canciones/Metal/y2mate.com - Fear Factory  Zero Signal.mp3     \b\b\b\b 57%\b\b\b\b\b  OK \n",
            "Extracting  canciones/Metal/y2mate.com - Head Like A Hole.mp3            \b\b\b\b 58%\b\b\b\b\b  OK \n",
            "Extracting  canciones/Metal/y2mate.com - Ich will.mp3                    \b\b\b\b 58%\b\b\b\b\b  OK \n",
            "Extracting  canciones/Metal/y2mate.com - Killing Strangers.mp3           \b\b\b\b 59%\b\b\b\b\b  OK \n",
            "Extracting  canciones/Metal/y2mate.com - March Of The Pigs.mp3           \b\b\b\b 60%\b\b\b\b\b  OK \n",
            "Extracting  canciones/Metal/y2mate.com - Only.mp3                        \b\b\b\b 61%\b\b\b\b\b  OK \n",
            "Extracting  canciones/Metal/y2mate.com - Rob Zombie  Dragula.mp3         \b\b\b\b 61%\b\b\b\b\b  OK \n",
            "Extracting  canciones/Metal/y2mate.com - Rob Zombie  Feel So Numb.mp3     \b\b\b\b 62%\b\b\b\b\b  OK \n",
            "Extracting  canciones/Metal/y2mate.com - Rob Zombie  Living Dead Girl.mp3     \b\b\b\b 63%\b\b\b\b\b  OK \n",
            "Extracting  canciones/Metal/y2mate.com - Rob Zombie  Never Gonna Stop The Red Red Kroovy Official Video.mp3     \b\b\b\b 63%\b\b\b\b\b  OK \n",
            "Extracting  canciones/Metal/y2mate.com - Rob Zombie  Superbeast Official Video.mp3     \b\b\b\b 64%\b\b\b\b\b  OK \n",
            "Extracting  canciones/Metal/y2mate.com - ROB ZOMBIE  The Triumph of King Freak A Crypt of Preservation and Superstition MUSIC VIDEO.mp3     \b\b\b\b 64%\b\b\b\b\b  OK \n",
            "Extracting  canciones/Metal/y2mate.com - Sonne.mp3                       \b\b\b\b 65%\b\b\b\b\b  OK \n",
            "Extracting  canciones/Metal/y2mate.com - Tainted Love.mp3                \b\b\b\b 66%\b\b\b\b\b  OK \n",
            "Extracting  canciones/Metal/y2mate.com - The Beautiful People.mp3        \b\b\b\b 66%\b\b\b\b\b  OK \n",
            "Extracting  canciones/Metal/y2mate.com - The Hand That Feeds.mp3         \b\b\b\b 67%\b\b\b\b\b  OK \n",
            "Extracting  canciones/Metal/y2mate.com - The Perfect Drug.mp3            \b\b\b\b 68%\b\b\b\b\b  OK \n",
            "Extracting  canciones/Metal/y2mate.com - Third Day of a Seven Day Binge.mp3     \b\b\b\b 69%\b\b\b\b\b  OK \n",
            "Extracting  canciones/Metal/y2mate.com - This Is The New Shit.mp3        \b\b\b\b 69%\b\b\b\b\b  OK \n",
            "Creating    canciones/Pop                                             OK\n",
            "Extracting  canciones/Pop/Ariana Grande  positions official video.mp3     \b\b\b\b 70%\b\b\b\b\b  OK \n",
            "Extracting  canciones/Pop/Bailando - Enrique Iglesias (lyrics) feat. Descemer Bueno _ Gente De Zona (Español).mp3     \b\b\b\b 71%\b\b\b\b\b  OK \n",
            "Extracting  canciones/Pop/Bruno Mars, Anderson .Paak, Silk Sonic - Leave the Door Open [Official Video].mp3     \b\b\b\b 72%\b\b\b\b\b  OK \n",
            "Extracting  canciones/Pop/Carlos Vives, Shakira - La Bicicleta.mp3       \b\b\b\b 73%\b\b\b\b\b  OK \n",
            "Extracting  canciones/Pop/Coldplay - Viva La Vida (Official Video).mp3     \b\b\b\b 74%\b\b\b\b 75%\b\b\b\b\b  OK \n",
            "Extracting  canciones/Pop/Doja Cat  Kiss Me More Official Video ft SZA.mp3     \b\b\b\b 75%\b\b\b\b\b  OK \n",
            "Extracting  canciones/Pop/Dua Lipa  Levitating Featuring DaBaby Official Music Video.mp3     \b\b\b\b 76%\b\b\b\b\b  OK \n",
            "Extracting  canciones/Pop/Dua Lipa - Don_t Start Now (Official Music Video).mp3     \b\b\b\b 77%\b\b\b\b\b  OK \n",
            "Extracting  canciones/Pop/Enrique Iglesias - DUELE EL CORAZON ft.  Wisin - letra ♥.mp3     \b\b\b\b 78%\b\b\b\b\b  OK \n",
            "Extracting  canciones/Pop/Justin Bieber - Peaches ft. Daniel Caesar, Giveon.mp3     \b\b\b\b 79%\b\b\b\b\b  OK \n",
            "Extracting  canciones/Pop/KAROL G, Nicki Minaj - Tusa (Official Video).mp3     \b\b\b\b 80%\b\b\b\b\b  OK \n",
            "Extracting  canciones/Pop/Lil Nas X  MONTERO Call Me By Your Name Official Video.mp3     \b\b\b\b 80%\b\b\b\b\b  OK \n",
            "Extracting  canciones/Pop/Luis Fonsi - Despacito (Letra-Lyrics) ft. Daddy Yankee.mp3     \b\b\b\b 81%\b\b\b\b 82%\b\b\b\b\b  OK \n",
            "Extracting  canciones/Pop/Luis Fonsi, Demi Lovato ‒ Echame La Culpa (Lyrics).mp3     \b\b\b\b 82%\b\b\b\b 83%\b\b\b\b\b  OK \n",
            "Extracting  canciones/Pop/Maluma - Hawái (Letra-Lyrics).mp3              \b\b\b\b 83%\b\b\b\b 84%\b\b\b\b\b  OK \n",
            "Extracting  canciones/Pop/Morat - Amor Con Hielo.mp3                     \b\b\b\b 84%\b\b\b\b 85%\b\b\b\b\b  OK \n",
            "Extracting  canciones/Pop/Morat - Cuando Nadie Ve.mp3                    \b\b\b\b 85%\b\b\b\b 86%\b\b\b\b\b  OK \n",
            "Extracting  canciones/Pop/Morat - Cómo Te Atreves.mp3                    \b\b\b\b 86%\b\b\b\b 87%\b\b\b\b\b  OK \n",
            "Extracting  canciones/Pop/Morat, Juanes - Besos En Guerra.mp3            \b\b\b\b 88%\b\b\b\b\b  OK \n",
            "Extracting  canciones/Pop/Olivia Rodrigo  drivers license Official Video.mp3     \b\b\b\b 89%\b\b\b\b\b  OK \n",
            "Extracting  canciones/Pop/Olivia Rodrigo - good 4 u (Lyrics).mp3         \b\b\b\b 90%\b\b\b\b\b  OK \n",
            "Extracting  canciones/Pop/Pedro Capó, Farruko - Calma (Remix - Official Video).mp3     \b\b\b\b 90%\b\b\b\b 91%\b\b\b\b\b  OK \n",
            "Extracting  canciones/Pop/PISO 21 - LA VIDA SIN TI (LETRA).mp3           \b\b\b\b 92%\b\b\b\b\b  OK \n",
            "Extracting  canciones/Pop/Ricky Martin - Adiós (Letra en Español).mp3     \b\b\b\b 93%\b\b\b\b\b  OK \n",
            "Extracting  canciones/Pop/Sebastián Yatra - Devuélveme El Corazón (Official Video).mp3     \b\b\b\b 94%\b\b\b\b\b  OK \n",
            "Extracting  canciones/Pop/Sebastián Yatra - Tacones Rojos (Official Video).mp3     \b\b\b\b 95%\b\b\b\b\b  OK \n",
            "Extracting  canciones/Pop/Sebastián Yatra, Reik - Un Año (Official Video).mp3     \b\b\b\b 96%\b\b\b\b\b  OK \n",
            "Extracting  canciones/Pop/Shakira - La La La (Brazil 2014) ft. Carlinhos Brown.mp3     \b\b\b\b 97%\b\b\b\b\b  OK \n",
            "Extracting  canciones/Pop/Taylor Swift - Love Story (Taylor_s Version) -- Español.mp3     \b\b\b\b 98%\b\b\b\b\b  OK \n",
            "Extracting  canciones/Pop/The Weeknd _ Ariana Grande - Save Your Tears (Remix) (Official Video).mp3     \b\b\b\b 99%\b\b\b\b\b  OK \n",
            "All OK\n"
          ]
        }
      ],
      "source": [
        "!unrar x canciones.rar"
      ]
    },
    {
      "cell_type": "code",
      "execution_count": 6,
      "metadata": {
        "id": "TYGzAC6PStay"
      },
      "outputs": [],
      "source": [
        "import os\n",
        "import soundfile as sf\n",
        "import numpy as np\n",
        "import random\n",
        "\n",
        "segment_size = 5 * 48000  # 5 segundos de audio\n",
        "segments_per_song = 4  # 4 segmentos por canción\n",
        "\n",
        "#Generos de música a clasificar\n",
        "genres = ['Clasica', 'Pop', 'Metal']\n",
        "\n",
        "\n",
        "#Se lee cada archivo de audio de cada género y se divide en los segmentos establecidos.\n",
        "#Luego se aplica la Transformada de Fourier a cada segmento \n",
        "#y se almacena el espectro resultante en un diccionario donde cada género tiene una lista de espectros de sus canciones.\n",
        "song_spectra = {}\n",
        "for genre in genres:\n",
        "    song_spectra[genre] = []\n",
        "    genre_dir = os.path.join('canciones', genre)\n",
        "    for song_path in os.listdir(genre_dir):\n",
        "        song, sample_rate = sf.read(os.path.join(genre_dir, song_path))\n",
        "        song_length = len(song)\n",
        "        for i in range(segments_per_song):\n",
        "            segment_start = random.randint(0, song_length - segment_size)\n",
        "            segment_end = segment_start + segment_size\n",
        "            if segment_end > song_length:\n",
        "                segment = np.zeros(segment_size)\n",
        "                segment[:song_length - segment_start] = song[segment_start:]\n",
        "            else:\n",
        "                segment = song[segment_start:segment_end]\n",
        "            spectrum = np.abs(np.fft.fft(segment))\n",
        "            song_spectra[genre].append(spectrum)\n",
        "\n",
        "\n",
        "#Se construye una base de datos de espectros de Fourier para cada género musical a partir de los segmentos de audio obtenidos anteriormente.\n",
        "#Para cada género, se calcula la media de todos los espectros de Fourier obtenidos en los segmentos de audio pertenecientes a ese género. \n",
        "#El resultado es un diccionario donde la clave es el género y el valor es el espectro promedio correspondiente a ese género.\n",
        "spectra_db = {}\n",
        "for genre in genres:\n",
        "    spectra_db[genre] = np.mean(song_spectra[genre], axis=0)\n",
        "\n",
        "\n",
        "\n",
        "# se define una función que clasifica una nueva canción en uno de los tres géneros definidos anteriormente.\n",
        "# La función toma como entrada el path de la canción a clasificar y devuelve el género más probable de esa canción.\n",
        "# se lee el archivo de audio y se obtiene su longitud. Luego, se dividen los segmentos de la misma manera que en la sección anterior.\n",
        "#Para cada segmento, se calcula su espectro de Fourier y se almacena en una lista llamada song_spectra. \n",
        "#Luego, se calcula la distancia promedio entre los espectros de la canción y los espectros promedio de cada género en la base de datos.\n",
        "#El resultado es un diccionario donde la clave es el género y el valor es la distancia promedio entre los espectros de la canción y los espectros promedio del género correspondiente.\n",
        "#Finalmente, se devuelve el género con la distancia promedio más pequeña, lo que indica que es el género más probable de la canción.\n",
        "\n",
        "def classify_song(song_path):\n",
        "    song, sample_rate = sf.read(song_path)\n",
        "    song_length = len(song)\n",
        "    segment_start_indices = random.sample(range(0, song_length - segment_size + 1, segment_size), segments_per_song)\n",
        "    song_segments = []\n",
        "    for start_idx in segment_start_indices:\n",
        "        segment_end = start_idx + segment_size\n",
        "        if segment_end > song_length:\n",
        "            segment = np.zeros(segment_size)\n",
        "            segment[:song_length - start_idx] = song[start_idx:]\n",
        "        else:\n",
        "            segment = song[start_idx:segment_end]\n",
        "        song_segments.append(segment)\n",
        "    song_spectra = []\n",
        "    for segment in song_segments:\n",
        "        spectrum = np.abs(np.fft.fft(segment))\n",
        "        song_spectra.append(spectrum)\n",
        "    distances = {}\n",
        "    for genre in genres:\n",
        "        distances[genre] = np.mean([np.linalg.norm(spectrum - spectra_db[genre]) for spectrum in song_spectra])\n",
        "    return min(distances, key=distances.get)"
      ]
    },
    {
      "cell_type": "code",
      "execution_count": null,
      "metadata": {
        "colab": {
          "base_uri": "https://localhost:8080/"
        },
        "id": "HD_AHGoqSDLv",
        "outputId": "6f355980-af5e-4376-987c-92560e522af0"
      },
      "outputs": [
        {
          "name": "stdout",
          "output_type": "stream",
          "text": [
            "Pop\n"
          ]
        }
      ],
      "source": [
        "genre = classify_song('Rels.mp3')\n",
        "print(genre)"
      ]
    }
  ],
  "metadata": {
    "colab": {
      "provenance": [],
      "authorship_tag": "ABX9TyPr3M7Yg8ifL2Rpt2Xv9bWC",
      "include_colab_link": true
    },
    "kernelspec": {
      "display_name": "Python 3",
      "name": "python3"
    },
    "language_info": {
      "name": "python"
    }
  },
  "nbformat": 4,
  "nbformat_minor": 0
}