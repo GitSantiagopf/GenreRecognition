{
  "nbformat": 4,
  "nbformat_minor": 0,
  "metadata": {
    "colab": {
      "provenance": [],
      "authorship_tag": "ABX9TyOjpN7DFtdQWnsv072RowjA",
      "include_colab_link": true
    },
    "kernelspec": {
      "name": "python3",
      "display_name": "Python 3"
    },
    "language_info": {
      "name": "python"
    }
  },
  "cells": [
    {
      "cell_type": "markdown",
      "metadata": {
        "id": "view-in-github",
        "colab_type": "text"
      },
      "source": [
        "<a href=\"https://colab.research.google.com/github/GitSantiagopf/GenreRecognition/blob/main/GenreRecognition.ipynb\" target=\"_parent\"><img src=\"https://colab.research.google.com/assets/colab-badge.svg\" alt=\"Open In Colab\"/></a>"
      ]
    },
    {
      "cell_type": "code",
      "source": [
        "from google.colab import files\n",
        "uploaded = files.upload()"
      ],
      "metadata": {
        "id": "pHhmAkCrprqK"
      },
      "execution_count": null,
      "outputs": []
    },
    {
      "cell_type": "code",
      "execution_count": null,
      "metadata": {
        "id": "M6383LR7j6Bd",
        "colab": {
          "base_uri": "https://localhost:8080/"
        },
        "outputId": "04bb0271-27a0-49e9-836a-7d8cd5f84ed7"
      },
      "outputs": [
        {
          "output_type": "stream",
          "name": "stdout",
          "text": [
            "\n",
            "UNRAR 5.61 beta 1 freeware      Copyright (c) 1993-2018 Alexander Roshal\n",
            "\n",
            "\n",
            "Extracting from canciones.rar\n",
            "\n",
            "\n",
            "Would you like to replace the existing file canciones/Clasica/André Rieu - Ballade pour Adeline.mp3\n",
            "     0 bytes, modified on 2023-04-19 01:43\n",
            "with a new one\n",
            "4966989 bytes, modified on 2023-04-19 01:43\n",
            "\n",
            "[Y]es, [N]o, [A]ll, n[E]ver, [R]ename, [Q]uit A\n",
            "\n",
            "Extracting  canciones/Clasica/André Rieu - Ballade pour Adeline.mp3      \b\b\b\b  0%\b\b\b\b\b  OK \n",
            "Extracting  canciones/Clasica/Antonio Vivaldi La Stravaganza.mp3         \b\b\b\b  1%\b\b\b\b  2%\b\b\b\b  3%\b\b\b\b\b  OK \n",
            "Extracting  canciones/Clasica/Beethoven – Pathetique Sonata 2nd Movement.mp3     \b\b\b\b  4%\b\b\b\b\b  OK \n",
            "Extracting  canciones/Clasica/Beethoven – Sonata No.17 Tempest 3rd Movement.mp3     \b\b\b\b  5%\b\b\b\b  6%\b\b\b\b\b  OK \n",
            "Extracting  canciones/Clasica/Brahms - Hungarian Dances No. 5 _ 6 conducted by Maciej Tomasiewicz.mp3     \b\b\b\b  7%\b\b\b\b  8%\b\b\b\b\b  OK \n",
            "Extracting  canciones/Clasica/Chopin  Nocturne op9 No2.mp3               \b\b\b\b  9%\b\b\b\b\b  OK \n",
            "Extracting  canciones/Clasica/Chopin  Spring Waltz Mariage dAmour Please Read Description.mp3     \b\b\b\b  9%\b\b\b\b 10%\b\b\b\b\b  OK \n",
            "Extracting  canciones/Clasica/Chopin - Fantaisie-Impromptu (Op. 66).mp3     \b\b\b\b 10%\b\b\b\b 11%\b\b\b\b\b  OK \n",
            "Extracting  canciones/Clasica/CLAUDE DEBUSSY-  CLAIR DE LUNE.mp3         \b\b\b\b 12%\b\b\b\b\b  OK \n",
            "Extracting  canciones/Clasica/David Garrett - Csárdás by Vittorio Monti - Milano 30.05.2015.mp3     \b\b\b\b 13%\b\b\b\b 14%\b\b\b\b\b  OK \n",
            "Extracting  canciones/Clasica/Debussy - Arabesque No.1 and No.2.mp3      \b\b\b\b 14%\b\b\b\b 15%\b\b\b\b 16%\b\b\b\b\b  OK \n",
            "Extracting  canciones/Clasica/Dmitri Shostakovich - The Second Waltz.mp3     \b\b\b\b 16%\b\b\b\b 17%\b\b\b\b\b  OK \n",
            "Extracting  canciones/Clasica/fur elise (Ludwig van Beethoven).mp3       \b\b\b\b 18%\b\b\b\b\b  OK \n",
            "Extracting  canciones/Clasica/Howl_s Moving Castle - Merry go round of Life cover by Grissini Project.mp3     \b\b\b\b 19%\b\b\b\b 20%\b\b\b\b\b  OK \n",
            "Extracting  canciones/Clasica/Mariage d_Amour - Paul de Senneville -- Jacob_s Piano.mp3     \b\b\b\b 21%\b\b\b\b\b  OK \n",
            "Extracting  canciones/Clasica/Moonlight Sonata.mp3                       \b\b\b\b 22%\b\b\b\b 23%\b\b\b\b 24%\b\b\b\b\b  OK \n",
            "Extracting  canciones/Clasica/Mozart - Requiem.mp3                       \b\b\b\b 24%\b\b\b\b 25%\b\b\b\b 26%\b\b\b\b\b  OK \n",
            "Extracting  canciones/Clasica/Mozart_s Eine Kleine Nachtmusik (1st Movement).mp3     \b\b\b\b 27%\b\b\b\b 28%\b\b\b\b\b  OK \n",
            "Extracting  canciones/Clasica/Mozart_s Rondo alla Turca.mp3              \b\b\b\b 28%\b\b\b\b 29%\b\b\b\b\b  OK \n",
            "Extracting  canciones/Clasica/Niccolo Paganini -  La campanella.mp3      \b\b\b\b 30%\b\b\b\b\b  OK \n",
            "Extracting  canciones/Clasica/onlymp3.to - The Godfather – Orchestral Suite  The Danish National Symphony Orchestra (Live)-X-jdl9hcCeg-256k-1654432007059.mp3     \b\b\b\b 31%\b\b\b\b 32%\b\b\b\b 33%\b\b\b\b 34%\b\b\b\b\b  OK \n",
            "Extracting  canciones/Clasica/Paganini_s Caprice No. 24-L1xWbrwSb7E-256k-1654487392360.mp3     \b\b\b\b 35%\b\b\b\b 36%\b\b\b\b 37%\b\b\b\b\b  OK \n",
            "Extracting  canciones/Clasica/Satie - Gymnopédie No. 1.mp3               \b\b\b\b 37%\b\b\b\b 38%\b\b\b\b\b  OK \n",
            "Extracting  canciones/Clasica/Schubert  Serenade.mp3                     \b\b\b\b 38%\b\b\b\b 39%\b\b\b\b\b  OK \n",
            "Extracting  canciones/Clasica/Strauss  The Blue Danube Waltz.mp3         \b\b\b\b 39%\b\b\b\b 40%\b\b\b\b\b  OK \n",
            "Extracting  canciones/Clasica/Tchaikovsky – Swan Lake.mp3                \b\b\b\b 41%\b\b\b\b\b  OK \n",
            "Extracting  canciones/Clasica/Vivaldi - Concerto No. 4 in F minor, Op. 8, RV 297, _Winter_.mp3     \b\b\b\b 42%\b\b\b\b 43%\b\b\b\b 44%\b\b\b\b\b  OK \n",
            "Extracting  canciones/Clasica/Vivaldi Four Seasons Winter LInverno original version Freivogel  Voices of Music  RV 297 4K.mp3     \b\b\b\b 45%\b\b\b\b\b  OK \n",
            "Extracting  canciones/Clasica/Vivaldi _ Spring - II.mp3                  \b\b\b\b 46%\b\b\b\b\b  OK \n",
            "Extracting  canciones/Clasica/Waltz No.2.mp3                             \b\b\b\b 47%\b\b\b\b\b  OK \n",
            "Extracting  canciones/Metal/Self Bias Resistor.mp3                       \b\b\b\b 48%\b\b\b\b\b  OK \n",
            "Extracting  canciones/Metal/Shock.mp3                                    \b\b\b\b 49%\b\b\b\b 50%\b\b\b\b\b  OK \n",
            "Extracting  canciones/Metal/y2mate.com - Deep Six.mp3                    \b\b\b\b 50%\b\b\b\b 51%\b\b\b\b\b  OK \n",
            "Extracting  canciones/Metal/y2mate.com - Dicke Titten.mp3                \b\b\b\b 51%\b\b\b\b\b  OK \n",
            "Extracting  canciones/Metal/y2mate.com - Discipline.mp3                  \b\b\b\b 52%\b\b\b\b\b  OK \n",
            "Extracting  canciones/Metal/y2mate.com - Du hast.mp3                     \b\b\b\b 53%\b\b\b\b\b  OK \n",
            "Extracting  canciones/Metal/y2mate.com - Du riechst so gut.mp3           \b\b\b\b 53%\b\b\b\b\b  OK \n",
            "Extracting  canciones/Metal/y2mate.com - Edgecrusher.mp3                 \b\b\b\b 54%\b\b\b\b\b  OK \n",
            "Extracting  canciones/Metal/y2mate.com - Engel.mp3                       \b\b\b\b 55%\b\b\b\b\b  OK \n",
            "Extracting  canciones/Metal/y2mate.com - Fear Factory  Linchpin OFFICIAL VIDEO.mp3     \b\b\b\b 55%\b\b\b\b\b  OK \n",
            "Extracting  canciones/Metal/y2mate.com - Fear Factory  Replica.mp3       \b\b\b\b 56%\b\b\b\b\b  OK \n",
            "Extracting  canciones/Metal/y2mate.com - Fear Factory  Zero Signal.mp3     \b\b\b\b 57%\b\b\b\b\b  OK \n",
            "Extracting  canciones/Metal/y2mate.com - Head Like A Hole.mp3            \b\b\b\b 58%\b\b\b\b\b  OK \n",
            "Extracting  canciones/Metal/y2mate.com - Ich will.mp3                    \b\b\b\b 58%\b\b\b\b\b  OK \n",
            "Extracting  canciones/Metal/y2mate.com - Killing Strangers.mp3           \b\b\b\b 59%\b\b\b\b\b  OK \n",
            "Extracting  canciones/Metal/y2mate.com - March Of The Pigs.mp3           \b\b\b\b 60%\b\b\b\b\b  OK \n",
            "Extracting  canciones/Metal/y2mate.com - Only.mp3                        \b\b\b\b 61%\b\b\b\b\b  OK \n",
            "Extracting  canciones/Metal/y2mate.com - Rob Zombie  Dragula.mp3         \b\b\b\b 61%\b\b\b\b\b  OK \n",
            "Extracting  canciones/Metal/y2mate.com - Rob Zombie  Feel So Numb.mp3     \b\b\b\b 62%\b\b\b\b\b  OK \n",
            "Extracting  canciones/Metal/y2mate.com - Rob Zombie  Living Dead Girl.mp3     \b\b\b\b 63%\b\b\b\b\b  OK \n",
            "Extracting  canciones/Metal/y2mate.com - Rob Zombie  Never Gonna Stop The Red Red Kroovy Official Video.mp3     \b\b\b\b 63%\b\b\b\b\b  OK \n",
            "Extracting  canciones/Metal/y2mate.com - Rob Zombie  Superbeast Official Video.mp3     \b\b\b\b 64%\b\b\b\b\b  OK \n",
            "Extracting  canciones/Metal/y2mate.com - ROB ZOMBIE  The Triumph of King Freak A Crypt of Preservation and Superstition MUSIC VIDEO.mp3     \b\b\b\b 64%\b\b\b\b\b  OK \n",
            "Extracting  canciones/Metal/y2mate.com - Sonne.mp3                       \b\b\b\b 65%\b\b\b\b\b  OK \n",
            "Extracting  canciones/Metal/y2mate.com - Tainted Love.mp3                \b\b\b\b 66%\b\b\b\b\b  OK \n",
            "Extracting  canciones/Metal/y2mate.com - The Beautiful People.mp3        \b\b\b\b 66%\b\b\b\b\b  OK \n",
            "Extracting  canciones/Metal/y2mate.com - The Hand That Feeds.mp3         \b\b\b\b 67%\b\b\b\b\b  OK \n",
            "Extracting  canciones/Metal/y2mate.com - The Perfect Drug.mp3            \b\b\b\b 68%\b\b\b\b\b  OK \n",
            "Extracting  canciones/Metal/y2mate.com - Third Day of a Seven Day Binge.mp3     \b\b\b\b 69%\b\b\b\b\b  OK \n",
            "Extracting  canciones/Metal/y2mate.com - This Is The New Shit.mp3        \b\b\b\b 69%\b\b\b\b\b  OK \n",
            "Extracting  canciones/Pop/Ariana Grande  positions official video.mp3     \b\b\b\b 70%\b\b\b\b\b  OK \n",
            "Extracting  canciones/Pop/Bailando - Enrique Iglesias (lyrics) feat. Descemer Bueno _ Gente De Zona (Español).mp3     \b\b\b\b 71%\b\b\b\b\b  OK \n",
            "Extracting  canciones/Pop/Bruno Mars, Anderson .Paak, Silk Sonic - Leave the Door Open [Official Video].mp3     \b\b\b\b 72%\b\b\b\b\b  OK \n",
            "Extracting  canciones/Pop/Carlos Vives, Shakira - La Bicicleta.mp3       \b\b\b\b 73%\b\b\b\b\b  OK \n",
            "Extracting  canciones/Pop/Coldplay - Viva La Vida (Official Video).mp3     \b\b\b\b 74%\b\b\b\b 75%\b\b\b\b\b  OK \n",
            "Extracting  canciones/Pop/Doja Cat  Kiss Me More Official Video ft SZA.mp3     \b\b\b\b 75%\b\b\b\b\b  OK \n",
            "Extracting  canciones/Pop/Dua Lipa  Levitating Featuring DaBaby Official Music Video.mp3     \b\b\b\b 76%\b\b\b\b\b  OK \n",
            "Extracting  canciones/Pop/Dua Lipa - Don_t Start Now (Official Music Video).mp3     \b\b\b\b 77%\b\b\b\b\b  OK \n",
            "Extracting  canciones/Pop/Enrique Iglesias - DUELE EL CORAZON ft.  Wisin - letra ♥.mp3     \b\b\b\b 78%\b\b\b\b\b  OK \n",
            "Extracting  canciones/Pop/Justin Bieber - Peaches ft. Daniel Caesar, Giveon.mp3     \b\b\b\b 79%\b\b\b\b\b  OK \n",
            "Extracting  canciones/Pop/KAROL G, Nicki Minaj - Tusa (Official Video).mp3     \b\b\b\b 80%\b\b\b\b\b  OK \n",
            "Extracting  canciones/Pop/Lil Nas X  MONTERO Call Me By Your Name Official Video.mp3     \b\b\b\b 80%\b\b\b\b\b  OK \n",
            "Extracting  canciones/Pop/Luis Fonsi - Despacito (Letra-Lyrics) ft. Daddy Yankee.mp3     \b\b\b\b 81%\b\b\b\b 82%\b\b\b\b\b  OK \n",
            "Extracting  canciones/Pop/Luis Fonsi, Demi Lovato ‒ Echame La Culpa (Lyrics).mp3     \b\b\b\b 82%\b\b\b\b 83%\b\b\b\b\b  OK \n",
            "Extracting  canciones/Pop/Maluma - Hawái (Letra-Lyrics).mp3              \b\b\b\b 83%\b\b\b\b 84%\b\b\b\b\b  OK \n",
            "Extracting  canciones/Pop/Morat - Amor Con Hielo.mp3                     \b\b\b\b 84%\b\b\b\b 85%\b\b\b\b\b  OK \n",
            "Extracting  canciones/Pop/Morat - Cuando Nadie Ve.mp3                    \b\b\b\b 85%\b\b\b\b 86%\b\b\b\b\b  OK \n",
            "Extracting  canciones/Pop/Morat - Cómo Te Atreves.mp3                    \b\b\b\b 86%\b\b\b\b 87%\b\b\b\b\b  OK \n",
            "Extracting  canciones/Pop/Morat, Juanes - Besos En Guerra.mp3            \b\b\b\b 88%\b\b\b\b\b  OK \n",
            "Extracting  canciones/Pop/Olivia Rodrigo  drivers license Official Video.mp3     \b\b\b\b 89%\b\b\b\b\b  OK \n",
            "Extracting  canciones/Pop/Olivia Rodrigo - good 4 u (Lyrics).mp3         \b\b\b\b 90%\b\b\b\b\b  OK \n",
            "Extracting  canciones/Pop/Pedro Capó, Farruko - Calma (Remix - Official Video).mp3     \b\b\b\b 90%\b\b\b\b 91%\b\b\b\b\b  OK \n",
            "Extracting  canciones/Pop/PISO 21 - LA VIDA SIN TI (LETRA).mp3           \b\b\b\b 92%\b\b\b\b\b  OK \n",
            "Extracting  canciones/Pop/Ricky Martin - Adiós (Letra en Español).mp3     \b\b\b\b 93%\b\b\b\b\b  OK \n",
            "Extracting  canciones/Pop/Sebastián Yatra - Devuélveme El Corazón (Official Video).mp3     \b\b\b\b 94%\b\b\b\b\b  OK \n",
            "Extracting  canciones/Pop/Sebastián Yatra - Tacones Rojos (Official Video).mp3     \b\b\b\b 95%\b\b\b\b\b  OK \n",
            "Extracting  canciones/Pop/Sebastián Yatra, Reik - Un Año (Official Video).mp3     \b\b\b\b 96%\b\b\b\b\b  OK \n",
            "Extracting  canciones/Pop/Shakira - La La La (Brazil 2014) ft. Carlinhos Brown.mp3     \b\b\b\b 97%\b\b\b\b\b  OK \n",
            "Extracting  canciones/Pop/Taylor Swift - Love Story (Taylor_s Version) -- Español.mp3     \b\b\b\b 98%\b\b\b\b\b  OK \n",
            "Extracting  canciones/Pop/The Weeknd _ Ariana Grande - Save Your Tears (Remix) (Official Video).mp3     \b\b\b\b 99%\b\b\b\b\b  OK \n",
            "All OK\n"
          ]
        }
      ],
      "source": [
        "!unrar x canciones.rar"
      ]
    },
    {
      "cell_type": "code",
      "source": [
        "import os\n",
        "import soundfile as sf\n",
        "from scipy.fft import fft\n",
        "import numpy as np\n",
        "import random\n",
        "\n",
        "segment_size = 5 * 48000  # 5 segundos de audio\n",
        "segments_per_song = 4  # 4 segmentos por canción\n",
        "\n",
        "genres = ['Clasica', 'Pop', 'Metal']\n",
        "\n",
        "song_spectra = {}\n",
        "for genre in genres:\n",
        "    song_spectra[genre] = []\n",
        "    genre_dir = os.path.join('canciones', genre)\n",
        "    for song_path in os.listdir(genre_dir):\n",
        "        song, sample_rate = sf.read(os.path.join(genre_dir, song_path))\n",
        "        song_length = len(song)\n",
        "        for i in range(segments_per_song):\n",
        "            segment_start = random.randint(0, song_length - segment_size)\n",
        "            segment_end = segment_start + segment_size\n",
        "            if segment_end > song_length:\n",
        "                segment = np.zeros(segment_size)\n",
        "                segment[:song_length - segment_start] = song[segment_start:]\n",
        "            else:\n",
        "                segment = song[segment_start:segment_end]\n",
        "            spectrum = np.abs(fft(segment))\n",
        "            song_spectra[genre].append(spectrum)\n",
        "\n",
        "# Construir una base de datos de espectros de Fourier\n",
        "spectra_db = {}\n",
        "for genre in genres:\n",
        "    spectra_db[genre] = np.mean(song_spectra[genre], axis=0)\n",
        "\n",
        "# Clasificar una nueva canción\n",
        "def classify_song(song_path):\n",
        "    song, sample_rate = sf.read(song_path)\n",
        "    song_length = len(song)\n",
        "    segment_start_indices = random.sample(range(0, song_length - segment_size + 1, segment_size), segments_per_song)\n",
        "    song_segments = []\n",
        "    for start_idx in segment_start_indices:\n",
        "        segment_end = start_idx + segment_size\n",
        "        if segment_end > song_length:\n",
        "            segment = np.zeros(segment_size)\n",
        "            segment[:song_length - start_idx] = song[start_idx:]\n",
        "        else:\n",
        "            segment = song[start_idx:segment_end]\n",
        "        song_segments.append(segment)\n",
        "    song_spectra = []\n",
        "    for segment in song_segments:\n",
        "        spectrum = np.abs(fft(segment))\n",
        "        song_spectra.append(spectrum)\n",
        "    distances = {}\n",
        "    for genre in genres:\n",
        "        distances[genre] = np.mean([np.linalg.norm(spectrum - spectra_db[genre]) for spectrum in song_spectra])\n",
        "    return min(distances, key=distances.get)\n"
      ],
      "metadata": {
        "id": "TYGzAC6PStay"
      },
      "execution_count": null,
      "outputs": []
    },
    {
      "cell_type": "code",
      "source": [
        "genre = classify_song('Rels.mp3')\n",
        "print(genre)"
      ],
      "metadata": {
        "colab": {
          "base_uri": "https://localhost:8080/"
        },
        "id": "HD_AHGoqSDLv",
        "outputId": "6f355980-af5e-4376-987c-92560e522af0"
      },
      "execution_count": null,
      "outputs": [
        {
          "output_type": "stream",
          "name": "stdout",
          "text": [
            "Pop\n"
          ]
        }
      ]
    },
    {
      "cell_type": "code",
      "source": [],
      "metadata": {
        "id": "sK0GiwMCUOyz"
      },
      "execution_count": null,
      "outputs": []
    }
  ]
}